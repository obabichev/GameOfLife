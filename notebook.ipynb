{
 "cells": [
  {
   "cell_type": "markdown",
   "metadata": {},
   "source": [
    "# Игра Жизнь"
   ]
  },
  {
   "cell_type": "markdown",
   "metadata": {},
   "source": [
    "    Исходный код: https://github.com/obabichev/GameOfLife"
   ]
  },
  {
   "cell_type": "code",
   "execution_count": 263,
   "metadata": {
    "collapsed": true
   },
   "outputs": [],
   "source": [
    "import time\n",
    "import random"
   ]
  },
  {
   "cell_type": "code",
   "execution_count": 264,
   "metadata": {
    "collapsed": true
   },
   "outputs": [],
   "source": [
    "pathToJar = './GameOfLife/out/artifacts/GameOfLifeSingle_jar/GameOfLife.jar'\n",
    "\n",
    "iterations = 20000"
   ]
  },
  {
   "cell_type": "markdown",
   "metadata": {},
   "source": [
    "## Тестовый стенд\n",
    "\n",
    "Прежде всего необходима площадка для тестирования алгоритмов. Для этого я создам файл с большим игровым полем и реализую простой однопоточный алгоритм. Полученные результат и время будут эталонными."
   ]
  },
  {
   "cell_type": "code",
   "execution_count": 265,
   "metadata": {
    "collapsed": false
   },
   "outputs": [],
   "source": [
    "def createTestData(path = 'input', fieldSize = 8, fillingPercent = 0.5):\n",
    "    random.seed(time.time())\n",
    "    f = open(path, 'w')\n",
    "    \n",
    "    for i in xrange(fieldSize):\n",
    "        for j in xrange(fieldSize):\n",
    "            f.write('%d ' % (1 if random.random() < fillingPercent else 0,))\n",
    "        f.write('\\n')\n",
    "    f.close()"
   ]
  },
  {
   "cell_type": "code",
   "execution_count": 266,
   "metadata": {
    "collapsed": true
   },
   "outputs": [],
   "source": [
    "def checkAnswer(diff):\n",
    "    if not diff:\n",
    "        print 'Result is right'\n",
    "    else:\n",
    "        print 'Wrong answer'"
   ]
  },
  {
   "cell_type": "code",
   "execution_count": 267,
   "metadata": {
    "collapsed": false
   },
   "outputs": [],
   "source": [
    "createTestData(fieldSize=1000)"
   ]
  },
  {
   "cell_type": "markdown",
   "metadata": {},
   "source": [
    "## Запуск однопоточной реализации"
   ]
  },
  {
   "cell_type": "code",
   "execution_count": 268,
   "metadata": {
    "collapsed": false
   },
   "outputs": [
    {
     "name": "stdout",
     "output_type": "stream",
     "text": [
      "CPU times: user 2.68 s, sys: 486 ms, total: 3.17 s\n",
      "Wall time: 7min 44s\n"
     ]
    }
   ],
   "source": [
    "%time !java -cp $pathToJar com.obabichev.gameoflife.impl.SingleThread input $iterations singleThreadOutput"
   ]
  },
  {
   "cell_type": "markdown",
   "metadata": {},
   "source": [
    "## Алгоритм простого разбиения поля по тредам"
   ]
  },
  {
   "cell_type": "markdown",
   "metadata": {},
   "source": [
    "#### 2 треда"
   ]
  },
  {
   "cell_type": "code",
   "execution_count": 269,
   "metadata": {
    "collapsed": false
   },
   "outputs": [
    {
     "name": "stdout",
     "output_type": "stream",
     "text": [
      "CPU times: user 2.3 s, sys: 411 ms, total: 2.71 s\n",
      "Wall time: 5min 13s\n"
     ]
    }
   ],
   "source": [
    "%time !java -cp $pathToJar com.obabichev.gameoflife.impl.SimpleMultithreading input $iterations simpleMultithreadingOutput 2"
   ]
  },
  {
   "cell_type": "code",
   "execution_count": 270,
   "metadata": {
    "collapsed": false
   },
   "outputs": [
    {
     "name": "stdout",
     "output_type": "stream",
     "text": [
      "Result is right\n"
     ]
    }
   ],
   "source": [
    "diff = !diff singleThreadOutput simpleMultithreadingOutput\n",
    "checkAnswer(diff)"
   ]
  },
  {
   "cell_type": "markdown",
   "metadata": {},
   "source": [
    "#### 4 треда"
   ]
  },
  {
   "cell_type": "code",
   "execution_count": 271,
   "metadata": {
    "collapsed": false,
    "scrolled": true
   },
   "outputs": [
    {
     "name": "stdout",
     "output_type": "stream",
     "text": [
      "CPU times: user 2.41 s, sys: 431 ms, total: 2.84 s\n",
      "Wall time: 5min 15s\n"
     ]
    }
   ],
   "source": [
    "%time !java -cp $pathToJar com.obabichev.gameoflife.impl.SimpleMultithreading input $iterations simpleMultithreadingOutput 4"
   ]
  },
  {
   "cell_type": "code",
   "execution_count": 272,
   "metadata": {
    "collapsed": false
   },
   "outputs": [
    {
     "name": "stdout",
     "output_type": "stream",
     "text": [
      "Result is right\n"
     ]
    }
   ],
   "source": [
    "diff = !diff singleThreadOutput simpleMultithreadingOutput\n",
    "checkAnswer(diff)"
   ]
  },
  {
   "cell_type": "code",
   "execution_count": null,
   "metadata": {
    "collapsed": true
   },
   "outputs": [],
   "source": []
  }
 ],
 "metadata": {
  "kernelspec": {
   "display_name": "Python 2",
   "language": "python",
   "name": "python2"
  },
  "language_info": {
   "codemirror_mode": {
    "name": "ipython",
    "version": 2
   },
   "file_extension": ".py",
   "mimetype": "text/x-python",
   "name": "python",
   "nbconvert_exporter": "python",
   "pygments_lexer": "ipython2",
   "version": "2.7.10"
  }
 },
 "nbformat": 4,
 "nbformat_minor": 1
}
